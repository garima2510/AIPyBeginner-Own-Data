{
 "cells": [
  {
   "cell_type": "code",
   "execution_count": 1,
   "metadata": {},
   "outputs": [],
   "source": [
    "from helper_functions import upload_txt_file, list_files_in_directory, print_llm_response"
   ]
  },
  {
   "cell_type": "code",
   "execution_count": 2,
   "metadata": {},
   "outputs": [
    {
     "name": "stdout",
     "output_type": "stream",
     "text": [
      "email.txt\n",
      "helper_functions.py\n",
      "L1_files.ipynb\n",
      "L2_own_data.ipynb\n",
      "recipe.txt\n"
     ]
    }
   ],
   "source": [
    "list_files_in_directory()"
   ]
  },
  {
   "cell_type": "code",
   "execution_count": 3,
   "metadata": {},
   "outputs": [
    {
     "name": "stdout",
     "output_type": "stream",
     "text": [
      "Kimchi Recipe\n",
      "\n",
      "To make kimchi, start by chopping one Napa cabbage into bite-sized pieces and salting it with 1/4 cup of sea salt. Let it sit for 1-2 hours. Rinse the cabbage under cold water three times and drain well. In a bowl, mix 1 tablespoon of sugar, 1 tablespoon of grated ginger, 4 minced garlic cloves, 1/4 cup of gochugaru (Korean red pepper flakes), and 3 tablespoons of fish sauce (or soy sauce). Add 3 chopped green onions, 1 julienned carrot, and 1 julienned daikon radish to the cabbage, then combine with the spice paste. Pack the mixture tightly into a jar, pressing down to remove air bubbles, and leave some space at the top. Let it sit at room temperature for 1-5 days, pressing down daily to keep the vegetables submerged. Once fermented to your liking, store the kimchi in the refrigerator. Enjoy!\n",
      "\n"
     ]
    }
   ],
   "source": [
    "f = open(\"recipe.txt\", \"r\")\n",
    "recipe = f.read()\n",
    "f.close()\n",
    "print(recipe)"
   ]
  },
  {
   "cell_type": "code",
   "execution_count": 4,
   "metadata": {},
   "outputs": [
    {
     "data": {
      "application/vnd.jupyter.widget-view+json": {
       "model_id": "90f1ba471f1d4565939d1f708d4fa112",
       "version_major": 2,
       "version_minor": 0
      },
      "text/plain": [
       "FileUpload(value=(), accept='.txt', description='Upload')"
      ]
     },
     "metadata": {},
     "output_type": "display_data"
    },
    {
     "data": {
      "application/vnd.jupyter.widget-view+json": {
       "model_id": "b0166818a171400797fcf35f6435fc0b",
       "version_major": 2,
       "version_minor": 0
      },
      "text/plain": [
       "Output()"
      ]
     },
     "metadata": {},
     "output_type": "display_data"
    }
   ],
   "source": [
    "upload_txt_file()"
   ]
  },
  {
   "cell_type": "code",
   "execution_count": 5,
   "metadata": {},
   "outputs": [
    {
     "name": "stdout",
     "output_type": "stream",
     "text": [
      "email.txt\n",
      "helper_functions.py\n",
      "L1_files.ipynb\n",
      "L2_own_data.ipynb\n",
      "recipe.txt\n",
      "text1.txt\n"
     ]
    }
   ],
   "source": [
    "list_files_in_directory()"
   ]
  },
  {
   "cell_type": "code",
   "execution_count": 6,
   "metadata": {},
   "outputs": [
    {
     "name": "stdout",
     "output_type": "stream",
     "text": [
      "test .. course\n",
      "python for beginners\n",
      "\n"
     ]
    }
   ],
   "source": [
    "f = open(\"text1.txt\", \"r\")\n",
    "file_content = f.read()\n",
    "f.close()\n",
    "print(file_content)"
   ]
  },
  {
   "cell_type": "code",
   "execution_count": null,
   "metadata": {},
   "outputs": [],
   "source": []
  }
 ],
 "metadata": {
  "kernelspec": {
   "display_name": "Python 3",
   "language": "python",
   "name": "python3"
  },
  "language_info": {
   "codemirror_mode": {
    "name": "ipython",
    "version": 3
   },
   "file_extension": ".py",
   "mimetype": "text/x-python",
   "name": "python",
   "nbconvert_exporter": "python",
   "pygments_lexer": "ipython3",
   "version": "3.12.6"
  }
 },
 "nbformat": 4,
 "nbformat_minor": 2
}

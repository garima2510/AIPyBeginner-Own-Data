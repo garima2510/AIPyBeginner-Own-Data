{
 "cells": [
  {
   "cell_type": "code",
   "execution_count": 1,
   "metadata": {},
   "outputs": [],
   "source": [
    "from helper_functions import *\n",
    "from IPython.display import display, HTML"
   ]
  },
  {
   "cell_type": "code",
   "execution_count": 3,
   "metadata": {},
   "outputs": [],
   "source": [
    "journal_rio_de_janeiro = read_journal(\"rio_de_janeiro.txt\")"
   ]
  },
  {
   "cell_type": "code",
   "execution_count": 4,
   "metadata": {},
   "outputs": [
    {
     "name": "stdout",
     "output_type": "stream",
     "text": [
      "\n",
      "Given the following journal entry from a food critic, identify the restaurants and their best dishes.\n",
      "Highlight and bold each restaurant (in orange) and best dish (in blue) within the original text. \n",
      "\n",
      "Provide the output as HTML suitable for display in a Jupyter notebook. \n",
      "\n",
      "Journal entry:\n",
      "First up was Confeitaria Colombo, a legendary and picturesque cafÃ© in central Rio. Known for its pastel de nata (custard tart), Colombo serves a delightful treat that is hard to beat. The crispy, flaky pastry filled with creamy, sweet custard was an excellent start to the day. The cafÃ©'s historic Belle Ã‰poque ambiance added an extra layer of charm.\n",
      "\n",
      "Next, I visited Fogo de ChÃ£o, a quintessential Brazilian steakhouse in Botafogo. Famous for its picanha (top sirloin), this churrascaria impressed with its perfectly grilled meat. The picanha was juicy, tender, and bursting with flavor, showcasing the high quality of Brazilian beef. The endless array of grilled meats served tableside made for a hearty and satisfying meal.\n",
      "\n",
      "For a more modern dining experience, I headed to Olympe in Lagoa. This Michelin-starred restaurant specializes in contemporary Brazilian cuisine. The highlight was their moqueca de caju (cashew nut stew). This rich and creamy stew, made from cashew nuts and complemented by fresh seafood and vegetables, was an exquisite dish in an elegant and refined setting.\n",
      "\n",
      "Finally, I concluded my culinary tour at AprazÃ­vel, renowned for its breathtaking views and farm-to-table approach. Their signature dish, galinhada (Brazilian chicken and rice), was outstanding. The tender and flavorful chicken, cooked with a mix of rice, vegetables, and spices, and served with farofa (toasted cassava flour), perfectly highlighted the fresh, locally sourced ingredients. The lush, garden-like setting of the restaurant provided a serene end to the culinary adventure.\n",
      "\n",
      "\n"
     ]
    }
   ],
   "source": [
    "prompt = f\"\"\"\n",
    "Given the following journal entry from a food critic, identify the restaurants and their best dishes.\n",
    "Highlight and bold each restaurant (in orange) and best dish (in blue) within the original text. \n",
    "\n",
    "Provide the output as HTML suitable for display in a Jupyter notebook. \n",
    "\n",
    "Journal entry:\n",
    "{journal_rio_de_janeiro}\n",
    "\"\"\"\n",
    "\n",
    "print(prompt)"
   ]
  },
  {
   "cell_type": "code",
   "execution_count": 5,
   "metadata": {},
   "outputs": [
    {
     "name": "stdout",
     "output_type": "stream",
     "text": [
      "```html\n",
      "<p>First up was <span style=\"color: orange; font-weight: bold;\">Confeitaria Colombo</span>, a legendary and picturesque cafÃ© in central Rio. Known for its <span style=\"color: blue; font-weight: bold;\">pastel de nata (custard tart)</span>, Colombo serves a delightful treat that is hard to beat. The crispy, flaky pastry filled with creamy, sweet custard was an excellent start to the day. The cafÃ©'s historic Belle Ã‰poque ambiance added an extra layer of charm.</p>\n",
      "\n",
      "<p>Next, I visited <span style=\"color: orange; font-weight: bold;\">Fogo de ChÃ£o</span>, a quintessential Brazilian steakhouse in Botafogo. Famous for its <span style=\"color: blue; font-weight: bold;\">picanha (top sirloin)</span>, this churrascaria impressed with its perfectly grilled meat. The picanha was juicy, tender, and bursting with flavor, showcasing the high quality of Brazilian beef. The endless array of grilled meats served tableside made for a hearty and satisfying meal.</p>\n",
      "\n",
      "<p>For a more modern dining experience, I headed to <span style=\"color: orange; font-weight: bold;\">Olympe</span> in Lagoa. This Michelin-starred restaurant specializes in contemporary Brazilian cuisine. The highlight was their <span style=\"color: blue; font-weight: bold;\">moqueca de caju (cashew nut stew)</span>. This rich and creamy stew, made from cashew nuts and complemented by fresh seafood and vegetables, was an exquisite dish in an elegant and refined setting.</p>\n",
      "\n",
      "<p>Finally, I concluded my culinary tour at <span style=\"color: orange; font-weight: bold;\">AprazÃ­vel</span>, renowned for its breathtaking views and farm-to-table approach. Their signature dish, <span style=\"color: blue; font-weight: bold;\">galinhada (Brazilian chicken and rice)</span>, was outstanding. The tender and flavorful chicken, cooked with a mix of rice, vegetables, and spices, and served with farofa (toasted cassava flour), perfectly highlighted the fresh, locally sourced ingredients. The lush, garden-like setting of the restaurant provided a serene end to the culinary adventure.</p>\n",
      "```\n"
     ]
    }
   ],
   "source": [
    "html_response = get_llm_response(prompt)\n",
    "print(html_response)"
   ]
  },
  {
   "cell_type": "code",
   "execution_count": 6,
   "metadata": {},
   "outputs": [
    {
     "data": {
      "text/html": [
       "```html\n",
       "<p>First up was <span style=\"color: orange; font-weight: bold;\">Confeitaria Colombo</span>, a legendary and picturesque cafÃ© in central Rio. Known for its <span style=\"color: blue; font-weight: bold;\">pastel de nata (custard tart)</span>, Colombo serves a delightful treat that is hard to beat. The crispy, flaky pastry filled with creamy, sweet custard was an excellent start to the day. The cafÃ©'s historic Belle Ã‰poque ambiance added an extra layer of charm.</p>\n",
       "\n",
       "<p>Next, I visited <span style=\"color: orange; font-weight: bold;\">Fogo de ChÃ£o</span>, a quintessential Brazilian steakhouse in Botafogo. Famous for its <span style=\"color: blue; font-weight: bold;\">picanha (top sirloin)</span>, this churrascaria impressed with its perfectly grilled meat. The picanha was juicy, tender, and bursting with flavor, showcasing the high quality of Brazilian beef. The endless array of grilled meats served tableside made for a hearty and satisfying meal.</p>\n",
       "\n",
       "<p>For a more modern dining experience, I headed to <span style=\"color: orange; font-weight: bold;\">Olympe</span> in Lagoa. This Michelin-starred restaurant specializes in contemporary Brazilian cuisine. The highlight was their <span style=\"color: blue; font-weight: bold;\">moqueca de caju (cashew nut stew)</span>. This rich and creamy stew, made from cashew nuts and complemented by fresh seafood and vegetables, was an exquisite dish in an elegant and refined setting.</p>\n",
       "\n",
       "<p>Finally, I concluded my culinary tour at <span style=\"color: orange; font-weight: bold;\">AprazÃ­vel</span>, renowned for its breathtaking views and farm-to-table approach. Their signature dish, <span style=\"color: blue; font-weight: bold;\">galinhada (Brazilian chicken and rice)</span>, was outstanding. The tender and flavorful chicken, cooked with a mix of rice, vegetables, and spices, and served with farofa (toasted cassava flour), perfectly highlighted the fresh, locally sourced ingredients. The lush, garden-like setting of the restaurant provided a serene end to the culinary adventure.</p>\n",
       "```"
      ],
      "text/plain": [
       "<IPython.core.display.HTML object>"
      ]
     },
     "metadata": {},
     "output_type": "display_data"
    }
   ],
   "source": [
    "display(HTML(html_response))"
   ]
  },
  {
   "cell_type": "code",
   "execution_count": 7,
   "metadata": {},
   "outputs": [
    {
     "name": "stdout",
     "output_type": "stream",
     "text": [
      "Restaurant,Dish\n",
      "Confeitaria Colombo,pastel de nata\n",
      "Fogo de Chão,picanha\n",
      "Olympe,moqueca de caju\n",
      "Aprazível,galinhada\n"
     ]
    }
   ],
   "source": [
    "prompt = f\"\"\"Please extract a comprehensive list of the restaurants \n",
    "and their respective best dishes mentioned in the following journal entry. \n",
    "Ensure that each restaurant name is accurately identified and listed. \n",
    "\n",
    "Provide your answer in CSV format, ready to save. \n",
    "Exclude the \"```csv\" declaration, don't add spaces after the comma, include column headers.\n",
    "\n",
    "Format:\n",
    "Restaurant, Dish\n",
    "Res_1, Dsh_1\n",
    "...\n",
    "\n",
    "Journal entry:\n",
    "{journal_rio_de_janeiro}\n",
    "\"\"\"\n",
    "\n",
    "restaurants_csv_ready_string = get_llm_response(prompt)\n",
    "\n",
    "print(restaurants_csv_ready_string)"
   ]
  },
  {
   "cell_type": "code",
   "execution_count": 8,
   "metadata": {},
   "outputs": [
    {
     "name": "stdout",
     "output_type": "stream",
     "text": [
      "cape_town.txt\n",
      "____________________________________________________________________________________________________\n",
      "Restaurant,Dish\n",
      "The Test Kitchen,Pickled Fish Tacos\n",
      "La Colombe,Tuna La Colombe\n",
      "Harbour House,Grilled Kingklip\n",
      "The Pot Luck Club,Beef Tataki\n",
      "____________________________________________________________________________________________________\n",
      "\n",
      "\n",
      "\n",
      "istanbul.txt\n",
      "____________________________________________________________________________________________________\n",
      "Restaurant,Dish\n",
      "Ã‡iya SofrasÄ±,Kuzu Tandir\n",
      "KarakÃ¶y LokantasÄ±,Midye Dolma\n",
      "Asitane,Mutancana\n",
      "Mikla,Lamb Rump\n",
      "____________________________________________________________________________________________________\n",
      "\n",
      "\n",
      "\n",
      "new_york.txt\n",
      "____________________________________________________________________________________________________\n",
      "Restaurant,Dish\n",
      "Katz's Delicatessen,pastrami on rye\n",
      "Peter Luger Steak House,porterhouse steak\n",
      "Chelsea Market,lobster rolls\n",
      "Gramercy Tavern,roasted chicken with seasonal vegetables\n",
      "____________________________________________________________________________________________________\n",
      "\n",
      "\n",
      "\n",
      "paris.txt\n",
      "____________________________________________________________________________________________________\n",
      "Restaurant,Dish\n",
      "Le Comptoir du Relais,Coq au Vin\n",
      "Le Jules Verne,Filet de Boeuf\n",
      "Pierre Hermé,Ispahan\n",
      "L'Ambroisie,Turbot with Artichokes and Truffle\n",
      "____________________________________________________________________________________________________\n",
      "\n",
      "\n",
      "\n",
      "rio_de_janeiro.txt\n",
      "____________________________________________________________________________________________________\n",
      "Restaurant,Dish\n",
      "Confeitaria Colombo,pastel de nata\n",
      "Fogo de Chão,picanha\n",
      "Olympe,moqueca de caju\n",
      "Aprazível,galinhada\n",
      "____________________________________________________________________________________________________\n",
      "\n",
      "\n",
      "\n",
      "sydney.txt\n",
      "____________________________________________________________________________________________________\n",
      "Restaurant,Dish\n",
      "Saint Peter,Murray Cod\n",
      "Billy Kwong,Crispy Skin Duck with Davidsonâ€™s Plum Sauce\n",
      "The Lord Nelson Brewery Hotel,Roast Lamb\n",
      "Vic's Meat Market,BBQ Beef Brisket\n",
      "Bennelong,Sydney Rock Oysters\n",
      "____________________________________________________________________________________________________\n",
      "\n",
      "\n",
      "\n",
      "tokyo.txt\n",
      "____________________________________________________________________________________________________\n",
      "Restaurant,Dish\n",
      "Sukiyabashi Jiro,Omakase sushi\n",
      "Ichiran Ramen,Tonkotsu ramen\n",
      "Tsukiji Outer Market,Fresh sashimi and street food\n",
      "Narisawa,Innovative tasting menu\n",
      "Ginza Kojyu,Kaiseki (traditional multi-course meal)\n",
      "Akasaka Kikunoi,Kaiseki\n",
      "____________________________________________________________________________________________________\n",
      "\n",
      "\n",
      "\n"
     ]
    }
   ],
   "source": [
    "files = [\"cape_town.txt\", \"istanbul.txt\", \"new_york.txt\", \"paris.txt\", \n",
    "          \"rio_de_janeiro.txt\", \"sydney.txt\", \"tokyo.txt\"]\n",
    "\n",
    "for file in files:\n",
    "    #Open file and read contents\n",
    "    journal_entry = read_journal(file)\n",
    "\n",
    "    #Extract restaurants and display csv\n",
    "    prompt =  f\"\"\"Please extract a comprehensive list of the restaurants \n",
    "    and their respective best dishes mentioned in the following journal entry. \n",
    "    \n",
    "    Ensure that each restaurant name is accurately identified and listed. \n",
    "    Provide your answer in CSV format, ready to save.\n",
    "\n",
    "    Exclude the \"```csv\" declaration, don't add spaces after the \n",
    "    comma, include column headers.\n",
    "\n",
    "    Format:\n",
    "    Restaurant, Dish\n",
    "    Res_1, Dsh_1\n",
    "    ...\n",
    "\n",
    "    Journal entry:\n",
    "    {journal_entry}\n",
    "    \"\"\"\n",
    "    \n",
    "    print(file)\n",
    "    print_llm_response(prompt)\n",
    "    print(\"\") # Prints a blank line!"
   ]
  },
  {
   "cell_type": "code",
   "execution_count": 9,
   "metadata": {},
   "outputs": [],
   "source": [
    "#save or write file\n",
    "f = open(\"highlighted_text.html\", \"w\")\n",
    "f.write(html_response)\n",
    "f.close()"
   ]
  },
  {
   "cell_type": "code",
   "execution_count": 10,
   "metadata": {},
   "outputs": [
    {
     "data": {
      "application/vnd.jupyter.widget-view+json": {
       "model_id": "fdd8f3e8f2f740c68b4851d843541c6b",
       "version_major": 2,
       "version_minor": 0
      },
      "text/plain": [
       "HBox(children=(Text(value='', description='File:', placeholder='Enter file name'), Button(description='Downloa…"
      ]
     },
     "metadata": {},
     "output_type": "display_data"
    },
    {
     "data": {
      "application/vnd.jupyter.widget-view+json": {
       "model_id": "541eaed7452448a2a1803f33aa8073e2",
       "version_major": 2,
       "version_minor": 0
      },
      "text/plain": [
       "Output()"
      ]
     },
     "metadata": {},
     "output_type": "display_data"
    }
   ],
   "source": [
    "download_file()"
   ]
  },
  {
   "cell_type": "code",
   "execution_count": null,
   "metadata": {},
   "outputs": [],
   "source": []
  }
 ],
 "metadata": {
  "kernelspec": {
   "display_name": "Python 3",
   "language": "python",
   "name": "python3"
  },
  "language_info": {
   "codemirror_mode": {
    "name": "ipython",
    "version": 3
   },
   "file_extension": ".py",
   "mimetype": "text/x-python",
   "name": "python",
   "nbconvert_exporter": "python",
   "pygments_lexer": "ipython3",
   "version": "3.12.6"
  }
 },
 "nbformat": 4,
 "nbformat_minor": 2
}

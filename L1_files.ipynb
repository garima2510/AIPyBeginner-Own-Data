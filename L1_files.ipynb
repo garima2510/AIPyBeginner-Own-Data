{
 "cells": [
  {
   "cell_type": "code",
   "execution_count": 2,
   "metadata": {},
   "outputs": [],
   "source": [
    "from helper_functions import get_llm_response\n",
    "from IPython.display import display, Markdown"
   ]
  },
  {
   "cell_type": "code",
   "execution_count": 3,
   "metadata": {},
   "outputs": [
    {
     "name": "stdout",
     "output_type": "stream",
     "text": [
      "**Chicken and Broccoli Stir-Fry with Rice**\n",
      "\n",
      "**Ingredients:**\n",
      "- 1 lb chicken breast, diced\n",
      "- 2 cups broccoli florets\n",
      "- 1 cup rice\n",
      "- 2 tbsp soy sauce\n",
      "- 1 tbsp olive oil\n",
      "- 1 garlic clove, minced\n",
      "- Salt and pepper to taste\n",
      "\n",
      "**Instructions:**\n",
      "1. Cook rice according to package instructions.\n",
      "2. Heat olive oil in a pan over medium heat. Add garlic and sauté for 1 minute.\n",
      "3. Add diced chicken to the pan, season with salt and pepper, and cook until no longer pink.\n",
      "4. Add broccoli florets and soy sauce. Stir-fry until broccoli is tender.\n",
      "5. Serve chicken and broccoli over cooked rice. Enjoy!\n"
     ]
    }
   ],
   "source": [
    "# Write a list of ingredients\n",
    "ingredients = ['chicken', 'broccoli', 'rice']\n",
    "\n",
    "# Write the prompt\n",
    "prompt = f\"\"\"\n",
    "    Create a short recipe that uses the following ingredients:\n",
    "    {ingredients}\n",
    "\"\"\"\n",
    "\n",
    "# Get the response from the LLM\n",
    "response = get_llm_response(prompt)\n",
    "\n",
    "# Print the LLM response\n",
    "print(response)"
   ]
  },
  {
   "cell_type": "code",
   "execution_count": 4,
   "metadata": {},
   "outputs": [],
   "source": [
    "f = open(\"email.txt\", \"r\")\n",
    "email = f.read()\n",
    "f.close()"
   ]
  },
  {
   "cell_type": "code",
   "execution_count": 5,
   "metadata": {},
   "outputs": [
    {
     "name": "stdout",
     "output_type": "stream",
     "text": [
      "Subject: My Incredible Journey Around the World!\n",
      "\n",
      "Hi Garima,\n",
      "\n",
      "I hope you are doing greatl! I just returned from an incredible trip around the world. I started in New York, enjoying a Broadway show and the skyline. \n",
      "In Rio de Janeiro, I soaked up the sun on Copacabana Beach and hiked to Christ the Redeemer. Cape Town amazed me with its natural beauty and safari adventures. \n",
      "Paris was magical with its charming streets and delicious food. \n",
      "Istanbul's Hagia Sophia and Bosphorus cruise were unforgettable. Tokyo dazzled with its neon lights and delicious sushi. \n",
      "Finally, Sydney's Opera House and Bondi Beach were the perfect end to my journey. Can't wait to share more stories and photos when we catch up!\n",
      "\n",
      "Best,\n",
      "\n",
      "Sanjyita\n"
     ]
    }
   ],
   "source": [
    "print(email)"
   ]
  },
  {
   "cell_type": "code",
   "execution_count": 6,
   "metadata": {},
   "outputs": [
    {
     "name": "stdout",
     "output_type": "stream",
     "text": [
      "Extract bullet points from the following email:\n",
      "Include the sender information.\n",
      "\n",
      "Email:\n",
      "Subject: My Incredible Journey Around the World!\n",
      "\n",
      "Hi Garima,\n",
      "\n",
      "I hope you are doing greatl! I just returned from an incredible trip around the world. I started in New York, enjoying a Broadway show and the skyline. \n",
      "In Rio de Janeiro, I soaked up the sun on Copacabana Beach and hiked to Christ the Redeemer. Cape Town amazed me with its natural beauty and safari adventures. \n",
      "Paris was magical with its charming streets and delicious food. \n",
      "Istanbul's Hagia Sophia and Bosphorus cruise were unforgettable. Tokyo dazzled with its neon lights and delicious sushi. \n",
      "Finally, Sydney's Opera House and Bondi Beach were the perfect end to my journey. Can't wait to share more stories and photos when we catch up!\n",
      "\n",
      "Best,\n",
      "\n",
      "Sanjyita\n"
     ]
    }
   ],
   "source": [
    "prompt = f\"\"\"Extract bullet points from the following email:\n",
    "Include the sender information.\n",
    "\n",
    "Email:\n",
    "{email}\"\"\"\n",
    "\n",
    "print(prompt)"
   ]
  },
  {
   "cell_type": "code",
   "execution_count": 7,
   "metadata": {},
   "outputs": [
    {
     "name": "stdout",
     "output_type": "stream",
     "text": [
      "- **Sender:** Sanjyita\n",
      "- **Subject:** My Incredible Journey Around the World!\n",
      "- **Destinations and Highlights:**\n",
      "  - New York: Broadway show, skyline\n",
      "  - Rio de Janeiro: Copacabana Beach, Christ the Redeemer hike\n",
      "  - Cape Town: Natural beauty, safari adventures\n",
      "  - Paris: Charming streets, delicious food\n",
      "  - Istanbul: Hagia Sophia, Bosphorus cruise\n",
      "  - Tokyo: Neon lights, sushi\n",
      "  - Sydney: Opera House, Bondi Beach\n",
      "- **Closing:** Can't wait to share more stories and photos when we catch up!\n"
     ]
    }
   ],
   "source": [
    "buttet_points = get_llm_response(prompt)\n",
    "print(buttet_points)"
   ]
  },
  {
   "cell_type": "code",
   "execution_count": 8,
   "metadata": {},
   "outputs": [
    {
     "data": {
      "text/markdown": [
       "- **Sender:** Sanjyita\n",
       "- **Subject:** My Incredible Journey Around the World!\n",
       "- **Destinations and Highlights:**\n",
       "  - New York: Broadway show, skyline\n",
       "  - Rio de Janeiro: Copacabana Beach, Christ the Redeemer hike\n",
       "  - Cape Town: Natural beauty, safari adventures\n",
       "  - Paris: Charming streets, delicious food\n",
       "  - Istanbul: Hagia Sophia, Bosphorus cruise\n",
       "  - Tokyo: Neon lights, sushi\n",
       "  - Sydney: Opera House, Bondi Beach\n",
       "- **Closing:** Can't wait to share more stories and photos when we catch up!"
      ],
      "text/plain": [
       "<IPython.core.display.Markdown object>"
      ]
     },
     "metadata": {},
     "output_type": "display_data"
    }
   ],
   "source": [
    "#print in markdown\n",
    "display(Markdown(buttet_points))"
   ]
  },
  {
   "cell_type": "code",
   "execution_count": null,
   "metadata": {},
   "outputs": [],
   "source": []
  }
 ],
 "metadata": {
  "kernelspec": {
   "display_name": "Python 3",
   "language": "python",
   "name": "python3"
  },
  "language_info": {
   "codemirror_mode": {
    "name": "ipython",
    "version": 3
   },
   "file_extension": ".py",
   "mimetype": "text/x-python",
   "name": "python",
   "nbconvert_exporter": "python",
   "pygments_lexer": "ipython3",
   "version": "3.12.6"
  }
 },
 "nbformat": 4,
 "nbformat_minor": 2
}

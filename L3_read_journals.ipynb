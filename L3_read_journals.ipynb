{
 "cells": [
  {
   "cell_type": "code",
   "execution_count": 1,
   "metadata": {},
   "outputs": [],
   "source": [
    "from helper_functions import get_llm_response, print_llm_response"
   ]
  },
  {
   "cell_type": "code",
   "execution_count": 2,
   "metadata": {},
   "outputs": [],
   "source": [
    "# List of the journal files\n",
    "files = [\"cape_town.txt\", \"madrid.txt\", \"rio_de_janeiro.txt\", \"sydney.txt\", \"tokyo.txt\", \"paris.txt\", \"new_york.txt\", \"istanbul.txt\"]"
   ]
  },
  {
   "cell_type": "code",
   "execution_count": 3,
   "metadata": {},
   "outputs": [
    {
     "name": "stdout",
     "output_type": "stream",
     "text": [
      "cape_town.txt --->  Relevant\n",
      "madrid.txt --->  Not Relevant\n",
      "rio_de_janeiro.txt --->  Relevant\n",
      "sydney.txt --->  Relevant\n",
      "tokyo.txt --->  Relevant\n",
      "paris.txt --->  Relevant\n",
      "new_york.txt --->  Relevant\n",
      "istanbul.txt --->  Relevant\n"
     ]
    }
   ],
   "source": [
    "for file in files:\n",
    "    #read journal file for the city\n",
    "    f = open(file, \"r\")\n",
    "    journal = f.read()\n",
    "    f.close()\n",
    "\n",
    "    #create a prompt\n",
    "    prompt = f\"\"\"Respond with \"Relevant\" or \"Not Relevant\":\n",
    "    the journal describes restaurants and their specialities.\n",
    "\n",
    "    Journal:\n",
    "    {journal}\"\"\"\n",
    "\n",
    "    #Use LLM to determine above\n",
    "    print(f\"{file} --->  {get_llm_response(prompt)}\")"
   ]
  },
  {
   "cell_type": "code",
   "execution_count": 4,
   "metadata": {},
   "outputs": [
    {
     "name": "stdout",
     "output_type": "stream",
     "text": [
      "cape_town.txt --->  No.\n",
      "madrid.txt --->  No.\n",
      "rio_de_janeiro.txt --->  No\n",
      "sydney.txt --->  No.\n",
      "tokyo.txt --->  No\n",
      "paris.txt --->  No\n",
      "new_york.txt --->  No.\n",
      "istanbul.txt --->  No\n"
     ]
    }
   ],
   "source": [
    "for file in files:\n",
    "    #read journal file for the city\n",
    "    f = open(file, \"r\")\n",
    "    journal = f.read()\n",
    "    f.close()\n",
    "\n",
    "    #create a prompt\n",
    "    prompt = f\"\"\"Respond with \"Yes\" or \"No\":\n",
    "    the journal describes vegetarian or vegan dishes.\n",
    "\n",
    "    Journal:\n",
    "    {journal}\"\"\"\n",
    "\n",
    "    #Use LLM to determine above\n",
    "    print(f\"{file} --->  {get_llm_response(prompt)}\")"
   ]
  },
  {
   "cell_type": "code",
   "execution_count": 6,
   "metadata": {},
   "outputs": [
    {
     "name": "stdout",
     "output_type": "stream",
     "text": [
      "cape_town.txt --->  No.\n",
      "madrid.txt --->  No.\n",
      "rio_de_janeiro.txt --->  Yes.\n",
      "sydney.txt --->  No.\n",
      "tokyo.txt --->  No\n",
      "paris.txt --->  Yes.\n",
      "new_york.txt --->  No.\n",
      "istanbul.txt --->  No.\n"
     ]
    }
   ],
   "source": [
    "for file in files:\n",
    "    #read journal file for the city\n",
    "    f = open(file, \"r\")\n",
    "    journal = f.read()\n",
    "    f.close()\n",
    "\n",
    "    #create a prompt\n",
    "    prompt = f\"\"\"Respond with \"Yes\" or \"No\":\n",
    "    the journal mentions desserts or sweets in the menu of a restaurant.\n",
    "\n",
    "    Journal:\n",
    "    {journal}\"\"\"\n",
    "\n",
    "    #Use LLM to determine above\n",
    "    print(f\"{file} --->  {get_llm_response(prompt)}\")"
   ]
  },
  {
   "cell_type": "code",
   "execution_count": null,
   "metadata": {},
   "outputs": [],
   "source": []
  }
 ],
 "metadata": {
  "kernelspec": {
   "display_name": "Python 3",
   "language": "python",
   "name": "python3"
  },
  "language_info": {
   "codemirror_mode": {
    "name": "ipython",
    "version": 3
   },
   "file_extension": ".py",
   "mimetype": "text/x-python",
   "name": "python",
   "nbconvert_exporter": "python",
   "pygments_lexer": "ipython3",
   "version": "3.12.6"
  }
 },
 "nbformat": 4,
 "nbformat_minor": 2
}
